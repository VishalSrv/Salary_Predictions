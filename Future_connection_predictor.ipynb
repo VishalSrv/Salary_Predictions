{
 "cells": [
  {
   "cell_type": "code",
   "execution_count": 1,
   "metadata": {
    "collapsed": true
   },
   "outputs": [],
   "source": [
    "import networkx as nx\n",
    "import pandas as pd\n",
    "import numpy as np\n",
    "import pickle\n",
    "from sklearn.linear_model import LogisticRegression\n",
    "from sklearn.preprocessing import MinMaxScaler"
   ]
  },
  {
   "cell_type": "code",
   "execution_count": null,
   "metadata": {
    "collapsed": true
   },
   "outputs": [],
   "source": [
    "future_connections = pd.read_csv('Future_Connections.csv', index_col=0, converters={0: eval})\n",
    "def new_connections_predictions():\n",
    "    df=future_connections\n",
    "    \n",
    "    lt1=[]\n",
    "    df1=list(nx.jaccard_coefficient(G,ebunch=df.index))\n",
    "    for x in range(len(df1)):\n",
    "        lt1.append(df1[x][2])\n",
    "    df['jaccard']=lt1    \n",
    "    \n",
    "    lt2=[]\n",
    "    df2=list(nx.resource_allocation_index(G,ebunch=df.index))\n",
    "    for x in range(len(df2)):\n",
    "        lt2.append(df2[x][2])\n",
    "    df['resource_allocation_index']=lt2    \n",
    "    \n",
    "    lt3=[]\n",
    "    df3=list(nx.adamic_adar_index(G,ebunch=df.index))\n",
    "    for x in range(len(df3)):\n",
    "        lt3.append(df3[x][2])\n",
    "    df['adamic_adar_index']=lt3\n",
    "    \n",
    "    lt4=[]\n",
    "    df4=list(nx.preferential_attachment(G,ebunch=df.index))\n",
    "    for x in range(len(df4)):\n",
    "        lt4.append(df4[x][2])\n",
    "    df['preferential_attachment']=lt4\n",
    "    \n",
    "    df['Future Connection'].fillna(3,inplace=True)\n",
    "    \n",
    "    df_predict=df[df['Future Connection']==3]\n",
    "    df_train=df[df['Future Connection']!=3]\n",
    "    \n",
    "    X_train=df_train[['jaccard','rai','aai','pref']]\n",
    "    y_train=df_train['Future Connection']\n",
    "    \n",
    "    X_test=df_predict[['jaccard','rai','aai','pref']]\n",
    "    \n",
    "    scaler=MinMaxScaler()\n",
    "    X_train_scaled=scaler.fit_transform(X_train)\n",
    "    X_test_scaled=scaler.transform(X_test)\n",
    "    \n",
    "    clf=LogisticRegression().fit(X_train_scaled,y_train)\n",
    "    \n",
    "    y_pred=clf.predict_proba(X_test_scaled)\n",
    "    ans=pd.Series(y_pred[:,1],index=X_test.index)\n",
    "    return ans"
   ]
  }
 ],
 "metadata": {
  "kernelspec": {
   "display_name": "Python 3",
   "language": "python",
   "name": "python3"
  },
  "language_info": {
   "codemirror_mode": {
    "name": "ipython",
    "version": 3
   },
   "file_extension": ".py",
   "mimetype": "text/x-python",
   "name": "python",
   "nbconvert_exporter": "python",
   "pygments_lexer": "ipython3",
   "version": "3.6.1"
  }
 },
 "nbformat": 4,
 "nbformat_minor": 2
}
