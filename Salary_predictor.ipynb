{
 "cells": [
  {
   "cell_type": "code",
   "execution_count": 1,
   "metadata": {
    "collapsed": true
   },
   "outputs": [],
   "source": [
    "import networkx as nx\n",
    "import pandas as pd\n",
    "import numpy as np\n",
    "import pickle\n",
    "from sklearn.linear_model import LogisticRegression\n",
    "from sklearn.preprocessing import MinMaxScaler"
   ]
  },
  {
   "cell_type": "code",
   "execution_count": 2,
   "metadata": {
    "collapsed": true
   },
   "outputs": [],
   "source": [
    "G = nx.read_gpickle('email_prediction.txt')\n",
    "def salary_predictions():\n",
    "    df=pd.DataFrame(index=G.nodes())\n",
    "    df['Department']=pd.Series(nx.get_node_attributes(G,'Department'))\n",
    "    df['Salary']=pd.Series(nx.get_node_attributes(G,'ManagementSalary'))\n",
    "    df['Salary'].fillna(2,inplace=True)\n",
    "    df['connection']=pd.Series(G.edges())\n",
    "    \n",
    "    df['clust']=(nx.clustering(G)).values()\n",
    "    df['deg']=(nx.degree(G)).values()\n",
    "    df['deg_cent']=(nx.degree_centrality(G)).values()\n",
    "    df['close_cent']=(nx.closeness_centrality(G)).values()\n",
    "    df['betw_cent']=(nx.betweenness_centrality(G,normalized=True,endpoints=False)).values()\n",
    "    \n",
    "    df_train=df[df['Salary']!=2]\n",
    "    df_predict=df[df['Salary']==2]\n",
    "    \n",
    "    X_train=df_train[['clust','deg','deg_cent','close_cent','betw_cent']]\n",
    "    y_train=df_train['Salary']\n",
    "    X_test=df_predict[['clust','deg','deg_cent','close_cent','betw_cent']]\n",
    "    \n",
    "    scaler=MinMaxScaler()\n",
    "    X_train_scaled=scaler.fit_transform(X_train)\n",
    "    X_test_scaled=scaler.transform(X_test)\n",
    "    \n",
    "    clf=LogisticRegression().fit(X_train_scaled,y_train)\n",
    "    y_predict=clf.predict_proba(X_test_scaled)\n",
    "    ans=pd.Series(y_predict[:,1],index=X_test.index)\n",
    "    return ans"
   ]
  },
  {
   "cell_type": "code",
   "execution_count": null,
   "metadata": {
    "collapsed": true
   },
   "outputs": [],
   "source": []
  }
 ],
 "metadata": {
  "kernelspec": {
   "display_name": "Python 3",
   "language": "python",
   "name": "python3"
  },
  "language_info": {
   "codemirror_mode": {
    "name": "ipython",
    "version": 3
   },
   "file_extension": ".py",
   "mimetype": "text/x-python",
   "name": "python",
   "nbconvert_exporter": "python",
   "pygments_lexer": "ipython3",
   "version": "3.6.1"
  }
 },
 "nbformat": 4,
 "nbformat_minor": 2
}
